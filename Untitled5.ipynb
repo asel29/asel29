{
 "cells": [
  {
   "cell_type": "code",
   "execution_count": 1,
   "metadata": {},
   "outputs": [],
   "source": [
    "import pandas as pd"
   ]
  },
  {
   "cell_type": "code",
   "execution_count": 2,
   "metadata": {},
   "outputs": [],
   "source": [
    "response_data = pd.read_csv(\"responses.csv\", sep=\";\")"
   ]
  },
  {
   "cell_type": "code",
   "execution_count": 3,
   "metadata": {},
   "outputs": [
    {
     "data": {
      "text/html": [
       "<div>\n",
       "<style scoped>\n",
       "    .dataframe tbody tr th:only-of-type {\n",
       "        vertical-align: middle;\n",
       "    }\n",
       "\n",
       "    .dataframe tbody tr th {\n",
       "        vertical-align: top;\n",
       "    }\n",
       "\n",
       "    .dataframe thead th {\n",
       "        text-align: right;\n",
       "    }\n",
       "</style>\n",
       "<table border=\"1\" class=\"dataframe\">\n",
       "  <thead>\n",
       "    <tr style=\"text-align: right;\">\n",
       "      <th></th>\n",
       "      <th>Timestamp,How old are you?,Gender?,Marital status,Do you have a house?,Your job ?,Do you have a deposit?,What kind of education?,Do you have a loan ?,</th>\n",
       "    </tr>\n",
       "  </thead>\n",
       "  <tbody>\n",
       "    <tr>\n",
       "      <td>0</td>\n",
       "      <td>2/24/2020 21:11:21,26-30,Male,married,yes,Heal...</td>\n",
       "    </tr>\n",
       "    <tr>\n",
       "      <td>1</td>\n",
       "      <td>2/24/2020 21:25:16,26-30,Male,single,no,\"Scien...</td>\n",
       "    </tr>\n",
       "    <tr>\n",
       "      <td>2</td>\n",
       "      <td>2/24/2020 21:25:51,21-25,Female,single,no,Heal...</td>\n",
       "    </tr>\n",
       "    <tr>\n",
       "      <td>3</td>\n",
       "      <td>2/24/2020 21:52:27,26-30,Female,married,yes,\"S...</td>\n",
       "    </tr>\n",
       "    <tr>\n",
       "      <td>4</td>\n",
       "      <td>2/24/2020 21:53:31,21-25,Male,single,no,\"Scien...</td>\n",
       "    </tr>\n",
       "    <tr>\n",
       "      <td>...</td>\n",
       "      <td>...</td>\n",
       "    </tr>\n",
       "    <tr>\n",
       "      <td>95</td>\n",
       "      <td>2/25/2020 11:03:24,36-45,Female,married,no,Man...</td>\n",
       "    </tr>\n",
       "    <tr>\n",
       "      <td>96</td>\n",
       "      <td>2/25/2020 11:03:32,31-35,Male,married,no,Manuf...</td>\n",
       "    </tr>\n",
       "    <tr>\n",
       "      <td>97</td>\n",
       "      <td>2/25/2020 11:03:51,36-45,Female,married,no,Man...</td>\n",
       "    </tr>\n",
       "    <tr>\n",
       "      <td>98</td>\n",
       "      <td>2/25/2020 11:04:10,36-45,Male,married,no,\"Scie...</td>\n",
       "    </tr>\n",
       "    <tr>\n",
       "      <td>99</td>\n",
       "      <td>2/25/2020 11:04:17,26-30,Female,married,no,Man...</td>\n",
       "    </tr>\n",
       "  </tbody>\n",
       "</table>\n",
       "<p>100 rows × 1 columns</p>\n",
       "</div>"
      ],
      "text/plain": [
       "   Timestamp,How old are you?,Gender?,Marital status,Do you have a house?,Your job ?,Do you have a deposit?,What kind of education?,Do you have a loan ?,\n",
       "0   2/24/2020 21:11:21,26-30,Male,married,yes,Heal...                                                                                                    \n",
       "1   2/24/2020 21:25:16,26-30,Male,single,no,\"Scien...                                                                                                    \n",
       "2   2/24/2020 21:25:51,21-25,Female,single,no,Heal...                                                                                                    \n",
       "3   2/24/2020 21:52:27,26-30,Female,married,yes,\"S...                                                                                                    \n",
       "4   2/24/2020 21:53:31,21-25,Male,single,no,\"Scien...                                                                                                    \n",
       "..                                                ...                                                                                                    \n",
       "95  2/25/2020 11:03:24,36-45,Female,married,no,Man...                                                                                                    \n",
       "96  2/25/2020 11:03:32,31-35,Male,married,no,Manuf...                                                                                                    \n",
       "97  2/25/2020 11:03:51,36-45,Female,married,no,Man...                                                                                                    \n",
       "98  2/25/2020 11:04:10,36-45,Male,married,no,\"Scie...                                                                                                    \n",
       "99  2/25/2020 11:04:17,26-30,Female,married,no,Man...                                                                                                    \n",
       "\n",
       "[100 rows x 1 columns]"
      ]
     },
     "execution_count": 3,
     "metadata": {},
     "output_type": "execute_result"
    }
   ],
   "source": [
    "response_data"
   ]
  },
  {
   "cell_type": "code",
   "execution_count": 4,
   "metadata": {},
   "outputs": [
    {
     "data": {
      "text/html": [
       "<div>\n",
       "<style scoped>\n",
       "    .dataframe tbody tr th:only-of-type {\n",
       "        vertical-align: middle;\n",
       "    }\n",
       "\n",
       "    .dataframe tbody tr th {\n",
       "        vertical-align: top;\n",
       "    }\n",
       "\n",
       "    .dataframe thead th {\n",
       "        text-align: right;\n",
       "    }\n",
       "</style>\n",
       "<table border=\"1\" class=\"dataframe\">\n",
       "  <thead>\n",
       "    <tr style=\"text-align: right;\">\n",
       "      <th></th>\n",
       "      <th>Timestamp,How old are you?,Gender?,Marital status,Do you have a house?,Your job ?,Do you have a deposit?,What kind of education?,Do you have a loan ?,</th>\n",
       "    </tr>\n",
       "  </thead>\n",
       "  <tbody>\n",
       "    <tr>\n",
       "      <td>0</td>\n",
       "      <td>2/24/2020 21:11:21,26-30,Male,married,yes,Heal...</td>\n",
       "    </tr>\n",
       "    <tr>\n",
       "      <td>1</td>\n",
       "      <td>2/24/2020 21:25:16,26-30,Male,single,no,\"Scien...</td>\n",
       "    </tr>\n",
       "    <tr>\n",
       "      <td>2</td>\n",
       "      <td>2/24/2020 21:25:51,21-25,Female,single,no,Heal...</td>\n",
       "    </tr>\n",
       "    <tr>\n",
       "      <td>3</td>\n",
       "      <td>2/24/2020 21:52:27,26-30,Female,married,yes,\"S...</td>\n",
       "    </tr>\n",
       "    <tr>\n",
       "      <td>4</td>\n",
       "      <td>2/24/2020 21:53:31,21-25,Male,single,no,\"Scien...</td>\n",
       "    </tr>\n",
       "    <tr>\n",
       "      <td>5</td>\n",
       "      <td>2/24/2020 21:54:01,36-45,Male,married,yes,\"Sci...</td>\n",
       "    </tr>\n",
       "    <tr>\n",
       "      <td>6</td>\n",
       "      <td>2/24/2020 21:54:28,26-30,Female,single,yes,\"Ma...</td>\n",
       "    </tr>\n",
       "  </tbody>\n",
       "</table>\n",
       "</div>"
      ],
      "text/plain": [
       "  Timestamp,How old are you?,Gender?,Marital status,Do you have a house?,Your job ?,Do you have a deposit?,What kind of education?,Do you have a loan ?,\n",
       "0  2/24/2020 21:11:21,26-30,Male,married,yes,Heal...                                                                                                    \n",
       "1  2/24/2020 21:25:16,26-30,Male,single,no,\"Scien...                                                                                                    \n",
       "2  2/24/2020 21:25:51,21-25,Female,single,no,Heal...                                                                                                    \n",
       "3  2/24/2020 21:52:27,26-30,Female,married,yes,\"S...                                                                                                    \n",
       "4  2/24/2020 21:53:31,21-25,Male,single,no,\"Scien...                                                                                                    \n",
       "5  2/24/2020 21:54:01,36-45,Male,married,yes,\"Sci...                                                                                                    \n",
       "6  2/24/2020 21:54:28,26-30,Female,single,yes,\"Ma...                                                                                                    "
      ]
     },
     "execution_count": 4,
     "metadata": {},
     "output_type": "execute_result"
    }
   ],
   "source": [
    "response_data.head(7)"
   ]
  },
  {
   "cell_type": "markdown",
   "metadata": {},
   "source": [
    "Head(7)shows us first 7 rows of table ,you can also left brackets empty and it shows us first 5 rows"
   ]
  },
  {
   "cell_type": "code",
   "execution_count": 5,
   "metadata": {},
   "outputs": [
    {
     "data": {
      "text/html": [
       "<div>\n",
       "<style scoped>\n",
       "    .dataframe tbody tr th:only-of-type {\n",
       "        vertical-align: middle;\n",
       "    }\n",
       "\n",
       "    .dataframe tbody tr th {\n",
       "        vertical-align: top;\n",
       "    }\n",
       "\n",
       "    .dataframe thead th {\n",
       "        text-align: right;\n",
       "    }\n",
       "</style>\n",
       "<table border=\"1\" class=\"dataframe\">\n",
       "  <thead>\n",
       "    <tr style=\"text-align: right;\">\n",
       "      <th></th>\n",
       "      <th>Timestamp,How old are you?,Gender?,Marital status,Do you have a house?,Your job ?,Do you have a deposit?,What kind of education?,Do you have a loan ?,</th>\n",
       "    </tr>\n",
       "  </thead>\n",
       "  <tbody>\n",
       "    <tr>\n",
       "      <td>97</td>\n",
       "      <td>2/25/2020 11:03:51,36-45,Female,married,no,Man...</td>\n",
       "    </tr>\n",
       "    <tr>\n",
       "      <td>98</td>\n",
       "      <td>2/25/2020 11:04:10,36-45,Male,married,no,\"Scie...</td>\n",
       "    </tr>\n",
       "    <tr>\n",
       "      <td>99</td>\n",
       "      <td>2/25/2020 11:04:17,26-30,Female,married,no,Man...</td>\n",
       "    </tr>\n",
       "  </tbody>\n",
       "</table>\n",
       "</div>"
      ],
      "text/plain": [
       "   Timestamp,How old are you?,Gender?,Marital status,Do you have a house?,Your job ?,Do you have a deposit?,What kind of education?,Do you have a loan ?,\n",
       "97  2/25/2020 11:03:51,36-45,Female,married,no,Man...                                                                                                    \n",
       "98  2/25/2020 11:04:10,36-45,Male,married,no,\"Scie...                                                                                                    \n",
       "99  2/25/2020 11:04:17,26-30,Female,married,no,Man...                                                                                                    "
      ]
     },
     "execution_count": 5,
     "metadata": {},
     "output_type": "execute_result"
    }
   ],
   "source": [
    "response_data.tail(3)"
   ]
  },
  {
   "cell_type": "markdown",
   "metadata": {},
   "source": [
    "Tail means last rows in this example last 3 rows"
   ]
  },
  {
   "cell_type": "code",
   "execution_count": 16,
   "metadata": {},
   "outputs": [
    {
     "name": "stdout",
     "output_type": "stream",
     "text": [
      "<class 'pandas.core.frame.DataFrame'>\n",
      "RangeIndex: 100 entries, 0 to 99\n",
      "Data columns (total 1 columns):\n",
      "Timestamp,How old are you?,Gender?,Marital status,Do you have a house?,Your job ?,Do you have a deposit?,What kind of education?,Do you have a loan ?,    100 non-null object\n",
      "dtypes: object(1)\n",
      "memory usage: 928.0+ bytes\n"
     ]
    }
   ],
   "source": [
    "response_data.info()"
   ]
  },
  {
   "cell_type": "markdown",
   "metadata": {},
   "source": [
    "As you can see,the data of analysis will help us find out the information about the client.What are the internal and external factors.We analyzed the data among our relatives.Now we will explain to you more specially what these factors mean:age(numeric),gender(male,female),then job position (categorical:(health science,technology,sales person,marketers,engineering,also student)And our research consist the question related deposits and loans.The table includes data type object.  Totally in this table there is  1 column, Info shows us how many non-null values table contain,their provide basic information,however null values make some analysis according to specific problem. In those table we see that there are same count of non-null values and also it’s equal to the 100 rows in data set. DataFrame contains at all 100,so there is no missing value.And we don’t need to replace any missing value. There are some categorical data has some advantages over unstructured,numerical data.\n"
   ]
  },
  {
   "cell_type": "code",
   "execution_count": null,
   "metadata": {},
   "outputs": [],
   "source": [
    "import numpy as np\n",
    "import pandas as pd\n",
    "import matplotlib.pyplot as plt\n",
    "import seaborn as sb"
   ]
  },
  {
   "cell_type": "code",
   "execution_count": 11,
   "metadata": {},
   "outputs": [],
   "source": [
    "pearsoncorr = response_data.corr(method= 'pearson')"
   ]
  },
  {
   "cell_type": "code",
   "execution_count": 12,
   "metadata": {},
   "outputs": [
    {
     "data": {
      "text/html": [
       "<div>\n",
       "<style scoped>\n",
       "    .dataframe tbody tr th:only-of-type {\n",
       "        vertical-align: middle;\n",
       "    }\n",
       "\n",
       "    .dataframe tbody tr th {\n",
       "        vertical-align: top;\n",
       "    }\n",
       "\n",
       "    .dataframe thead th {\n",
       "        text-align: right;\n",
       "    }\n",
       "</style>\n",
       "<table border=\"1\" class=\"dataframe\">\n",
       "  <thead>\n",
       "    <tr style=\"text-align: right;\">\n",
       "      <th></th>\n",
       "    </tr>\n",
       "  </thead>\n",
       "  <tbody>\n",
       "  </tbody>\n",
       "</table>\n",
       "</div>"
      ],
      "text/plain": [
       "Empty DataFrame\n",
       "Columns: []\n",
       "Index: []"
      ]
     },
     "execution_count": 12,
     "metadata": {},
     "output_type": "execute_result"
    }
   ],
   "source": [
    "pearsoncorr"
   ]
  },
  {
   "cell_type": "code",
   "execution_count": 13,
   "metadata": {},
   "outputs": [
    {
     "data": {
      "text/html": [
       "<div>\n",
       "<style scoped>\n",
       "    .dataframe tbody tr th:only-of-type {\n",
       "        vertical-align: middle;\n",
       "    }\n",
       "\n",
       "    .dataframe tbody tr th {\n",
       "        vertical-align: top;\n",
       "    }\n",
       "\n",
       "    .dataframe thead th {\n",
       "        text-align: right;\n",
       "    }\n",
       "</style>\n",
       "<table border=\"1\" class=\"dataframe\">\n",
       "  <thead>\n",
       "    <tr style=\"text-align: right;\">\n",
       "      <th></th>\n",
       "      <th>Timestamp,How old are you?,Gender?,Marital status,Do you have a house?,Your job ?,Do you have a deposit?,What kind of education?,Do you have a loan ?,</th>\n",
       "    </tr>\n",
       "  </thead>\n",
       "  <tbody>\n",
       "    <tr>\n",
       "      <td>count</td>\n",
       "      <td>100</td>\n",
       "    </tr>\n",
       "    <tr>\n",
       "      <td>unique</td>\n",
       "      <td>100</td>\n",
       "    </tr>\n",
       "    <tr>\n",
       "      <td>top</td>\n",
       "      <td>2/24/2020 22:28:17,36-45,Male,married,yes,\"Mar...</td>\n",
       "    </tr>\n",
       "    <tr>\n",
       "      <td>freq</td>\n",
       "      <td>1</td>\n",
       "    </tr>\n",
       "  </tbody>\n",
       "</table>\n",
       "</div>"
      ],
      "text/plain": [
       "       Timestamp,How old are you?,Gender?,Marital status,Do you have a house?,Your job ?,Do you have a deposit?,What kind of education?,Do you have a loan ?,\n",
       "count                                                 100                                                                                                    \n",
       "unique                                                100                                                                                                    \n",
       "top     2/24/2020 22:28:17,36-45,Male,married,yes,\"Mar...                                                                                                    \n",
       "freq                                                    1                                                                                                    "
      ]
     },
     "execution_count": 13,
     "metadata": {},
     "output_type": "execute_result"
    }
   ],
   "source": [
    "response_data.describe()"
   ]
  },
  {
   "cell_type": "markdown",
   "metadata": {},
   "source": [
    " \n",
    "This table shows us numeric data description.Each of the description column the data can be divided according to several criteria related our relatives.There are some categorical data has some advantages over unstructured,numerical data."
   ]
  }
 ],
 "metadata": {
  "kernelspec": {
   "display_name": "Python 3",
   "language": "python",
   "name": "python3"
  },
  "language_info": {
   "codemirror_mode": {
    "name": "ipython",
    "version": 3
   },
   "file_extension": ".py",
   "mimetype": "text/x-python",
   "name": "python",
   "nbconvert_exporter": "python",
   "pygments_lexer": "ipython3",
   "version": "3.7.4"
  }
 },
 "nbformat": 4,
 "nbformat_minor": 2
}
